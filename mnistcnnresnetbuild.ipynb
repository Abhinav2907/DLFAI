{
  "nbformat": 4,
  "nbformat_minor": 0,
  "metadata": {
    "colab": {
      "name": "mnistcnnresnetbuild.ipynb",
      "version": "0.3.2",
      "provenance": []
    },
    "kernelspec": {
      "name": "python3",
      "display_name": "Python 3"
    },
    "accelerator": "GPU"
  },
  "cells": [
    {
      "cell_type": "code",
      "metadata": {
        "id": "W-1XSoENdrFT",
        "colab_type": "code",
        "colab": {}
      },
      "source": [
        "%reload_ext autoreload\n",
        "%autoreload 2\n",
        "%matplotlib inline"
      ],
      "execution_count": 0,
      "outputs": []
    },
    {
      "cell_type": "code",
      "metadata": {
        "id": "q2LPEJw_eBT4",
        "colab_type": "code",
        "colab": {}
      },
      "source": [
        "from fastai.vision import *"
      ],
      "execution_count": 0,
      "outputs": []
    },
    {
      "cell_type": "code",
      "metadata": {
        "id": "71nL9TgTopQI",
        "colab_type": "code",
        "colab": {}
      },
      "source": [
        "path = untar_data(URLs.MNIST)"
      ],
      "execution_count": 0,
      "outputs": []
    },
    {
      "cell_type": "code",
      "metadata": {
        "id": "lNG0UPLOovM6",
        "colab_type": "code",
        "outputId": "3dedb6d3-165b-4425-ea77-37af915d0680",
        "colab": {
          "base_uri": "https://localhost:8080/",
          "height": 51
        }
      },
      "source": [
        "path.ls()"
      ],
      "execution_count": 4,
      "outputs": [
        {
          "output_type": "execute_result",
          "data": {
            "text/plain": [
              "[PosixPath('/root/.fastai/data/mnist_png/training'),\n",
              " PosixPath('/root/.fastai/data/mnist_png/testing')]"
            ]
          },
          "metadata": {
            "tags": []
          },
          "execution_count": 4
        }
      ]
    },
    {
      "cell_type": "code",
      "metadata": {
        "id": "rRV83iZ6o1qM",
        "colab_type": "code",
        "colab": {}
      },
      "source": [
        "il = ImageList.from_folder(path, convert_mode='L')"
      ],
      "execution_count": 0,
      "outputs": []
    },
    {
      "cell_type": "code",
      "metadata": {
        "id": "LJT9r_ofswB2",
        "colab_type": "code",
        "outputId": "c4535e18-c632-4529-fcb0-4f0dc0dac756",
        "colab": {
          "base_uri": "https://localhost:8080/",
          "height": 34
        }
      },
      "source": [
        "il.items[0]"
      ],
      "execution_count": 6,
      "outputs": [
        {
          "output_type": "execute_result",
          "data": {
            "text/plain": [
              "PosixPath('/root/.fastai/data/mnist_png/training/4/37328.png')"
            ]
          },
          "metadata": {
            "tags": []
          },
          "execution_count": 6
        }
      ]
    },
    {
      "cell_type": "code",
      "metadata": {
        "id": "TRGfHKWqrA48",
        "colab_type": "code",
        "colab": {}
      },
      "source": [
        "defaults.cmap='binary'"
      ],
      "execution_count": 0,
      "outputs": []
    },
    {
      "cell_type": "code",
      "metadata": {
        "id": "FmvnOCIFpzzs",
        "colab_type": "code",
        "colab": {
          "base_uri": "https://localhost:8080/",
          "height": 68
        },
        "outputId": "29feaef6-40f7-4067-d792-163bc585bc17"
      },
      "source": [
        "il"
      ],
      "execution_count": 8,
      "outputs": [
        {
          "output_type": "execute_result",
          "data": {
            "text/plain": [
              "ImageList (70000 items)\n",
              "Image (1, 28, 28),Image (1, 28, 28),Image (1, 28, 28),Image (1, 28, 28),Image (1, 28, 28)\n",
              "Path: /root/.fastai/data/mnist_png"
            ]
          },
          "metadata": {
            "tags": []
          },
          "execution_count": 8
        }
      ]
    },
    {
      "cell_type": "code",
      "metadata": {
        "id": "9Oc4U_peqmP3",
        "colab_type": "code",
        "outputId": "99dcbafd-b70e-4974-d922-485f366d1750",
        "colab": {
          "base_uri": "https://localhost:8080/",
          "height": 212
        }
      },
      "source": [
        "il[0].show()"
      ],
      "execution_count": 9,
      "outputs": [
        {
          "output_type": "display_data",
          "data": {
            "image/png": "[encoded data removed]",
            "text/plain": [
              "<Figure size 216x216 with 1 Axes>"
            ]
          },
          "metadata": {
            "tags": []
          }
        }
      ]
    },
    {
      "cell_type": "code",
      "metadata": {
        "id": "LeLcJzYmqpgw",
        "colab_type": "code",
        "colab": {}
      },
      "source": [
        "sd = il.split_by_folder(train='training', valid='testing')"
      ],
      "execution_count": 0,
      "outputs": []
    },
    {
      "cell_type": "code",
      "metadata": {
        "id": "wBjGtcBm_1Nh",
        "colab_type": "code",
        "colab": {
          "base_uri": "https://localhost:8080/",
          "height": 204
        },
        "outputId": "affec570-c821-4093-c25f-4eea6ca68f2b"
      },
      "source": [
        "sd"
      ],
      "execution_count": 11,
      "outputs": [
        {
          "output_type": "execute_result",
          "data": {
            "text/plain": [
              "ItemLists;\n",
              "\n",
              "Train: ImageList (60000 items)\n",
              "Image (1, 28, 28),Image (1, 28, 28),Image (1, 28, 28),Image (1, 28, 28),Image (1, 28, 28)\n",
              "Path: /root/.fastai/data/mnist_png;\n",
              "\n",
              "Valid: ImageList (10000 items)\n",
              "Image (1, 28, 28),Image (1, 28, 28),Image (1, 28, 28),Image (1, 28, 28),Image (1, 28, 28)\n",
              "Path: /root/.fastai/data/mnist_png;\n",
              "\n",
              "Test: None"
            ]
          },
          "metadata": {
            "tags": []
          },
          "execution_count": 11
        }
      ]
    },
    {
      "cell_type": "code",
      "metadata": {
        "id": "hPUfyEB7_2hN",
        "colab_type": "code",
        "colab": {
          "base_uri": "https://localhost:8080/",
          "height": 187
        },
        "outputId": "d6d886f5-2c83-4260-960c-3e6d4424058b"
      },
      "source": [
        "(path/'training').ls()"
      ],
      "execution_count": 12,
      "outputs": [
        {
          "output_type": "execute_result",
          "data": {
            "text/plain": [
              "[PosixPath('/root/.fastai/data/mnist_png/training/4'),\n",
              " PosixPath('/root/.fastai/data/mnist_png/training/8'),\n",
              " PosixPath('/root/.fastai/data/mnist_png/training/3'),\n",
              " PosixPath('/root/.fastai/data/mnist_png/training/1'),\n",
              " PosixPath('/root/.fastai/data/mnist_png/training/0'),\n",
              " PosixPath('/root/.fastai/data/mnist_png/training/5'),\n",
              " PosixPath('/root/.fastai/data/mnist_png/training/2'),\n",
              " PosixPath('/root/.fastai/data/mnist_png/training/6'),\n",
              " PosixPath('/root/.fastai/data/mnist_png/training/7'),\n",
              " PosixPath('/root/.fastai/data/mnist_png/training/9')]"
            ]
          },
          "metadata": {
            "tags": []
          },
          "execution_count": 12
        }
      ]
    },
    {
      "cell_type": "code",
      "metadata": {
        "id": "Psxg8CrX_4i6",
        "colab_type": "code",
        "colab": {}
      },
      "source": [
        "ll = sd.label_from_folder()"
      ],
      "execution_count": 0,
      "outputs": []
    },
    {
      "cell_type": "code",
      "metadata": {
        "id": "8xZZyyE4_64q",
        "colab_type": "code",
        "colab": {
          "base_uri": "https://localhost:8080/",
          "height": 306
        },
        "outputId": "0aab1c30-f838-4922-e131-791941f97e87"
      },
      "source": [
        "ll"
      ],
      "execution_count": 14,
      "outputs": [
        {
          "output_type": "execute_result",
          "data": {
            "text/plain": [
              "LabelLists;\n",
              "\n",
              "Train: LabelList (60000 items)\n",
              "x: ImageList\n",
              "Image (1, 28, 28),Image (1, 28, 28),Image (1, 28, 28),Image (1, 28, 28),Image (1, 28, 28)\n",
              "y: CategoryList\n",
              "4,4,4,4,4\n",
              "Path: /root/.fastai/data/mnist_png;\n",
              "\n",
              "Valid: LabelList (10000 items)\n",
              "x: ImageList\n",
              "Image (1, 28, 28),Image (1, 28, 28),Image (1, 28, 28),Image (1, 28, 28),Image (1, 28, 28)\n",
              "y: CategoryList\n",
              "4,4,4,4,4\n",
              "Path: /root/.fastai/data/mnist_png;\n",
              "\n",
              "Test: None"
            ]
          },
          "metadata": {
            "tags": []
          },
          "execution_count": 14
        }
      ]
    },
    {
      "cell_type": "code",
      "metadata": {
        "id": "mOsQ1bCq_7-K",
        "colab_type": "code",
        "colab": {}
      },
      "source": [
        "x,y = ll.train[0]"
      ],
      "execution_count": 0,
      "outputs": []
    },
    {
      "cell_type": "code",
      "metadata": {
        "id": "uaecGLym_97I",
        "colab_type": "code",
        "colab": {
          "base_uri": "https://localhost:8080/",
          "height": 229
        },
        "outputId": "82af0b86-dd15-4693-dd59-f99c8825a87a"
      },
      "source": [
        "x.show()\n",
        "print(y,x.shape)"
      ],
      "execution_count": 16,
      "outputs": [
        {
          "output_type": "stream",
          "text": [
            "4 torch.Size([1, 28, 28])\n"
          ],
          "name": "stdout"
        },
        {
          "output_type": "display_data",
          "data": {
            "image/png": "[encoded data removed]",
            "text/plain": [
              "<Figure size 216x216 with 1 Axes>"
            ]
          },
          "metadata": {
            "tags": []
          }
        }
      ]
    },
    {
      "cell_type": "code",
      "metadata": {
        "id": "TpHdSM5c__jo",
        "colab_type": "code",
        "colab": {}
      },
      "source": [
        "tfms = ([*rand_pad(padding=3, size=28, mode='zeros')], [])"
      ],
      "execution_count": 0,
      "outputs": []
    },
    {
      "cell_type": "code",
      "metadata": {
        "id": "1mzdNyM0ABrh",
        "colab_type": "code",
        "colab": {}
      },
      "source": [
        "ll = ll.transform(tfms)"
      ],
      "execution_count": 0,
      "outputs": []
    },
    {
      "cell_type": "code",
      "metadata": {
        "id": "z6X0TKrtADh0",
        "colab_type": "code",
        "colab": {}
      },
      "source": [
        "bs=128"
      ],
      "execution_count": 0,
      "outputs": []
    },
    {
      "cell_type": "code",
      "metadata": {
        "id": "zYRw5Z_xAFdr",
        "colab_type": "code",
        "colab": {}
      },
      "source": [
        "# not using imagenet_stats because not using pretrained model\n",
        "data = ll.databunch(bs=bs).normalize()"
      ],
      "execution_count": 0,
      "outputs": []
    },
    {
      "cell_type": "code",
      "metadata": {
        "id": "MgQs0QPiAIWC",
        "colab_type": "code",
        "colab": {}
      },
      "source": [
        "x,y = data.train_ds[0]"
      ],
      "execution_count": 0,
      "outputs": []
    },
    {
      "cell_type": "code",
      "metadata": {
        "id": "Fm1VzkLMAKXg",
        "colab_type": "code",
        "colab": {
          "base_uri": "https://localhost:8080/",
          "height": 229
        },
        "outputId": "7961c356-2a0a-4ee5-e8b9-05a67dd6a6b2"
      },
      "source": [
        "x.show()\n",
        "print(y)"
      ],
      "execution_count": 22,
      "outputs": [
        {
          "output_type": "stream",
          "text": [
            "4\n"
          ],
          "name": "stdout"
        },
        {
          "output_type": "display_data",
          "data": {
            "image/png": "[encoded data removed]",
            "text/plain": [
              "<Figure size 216x216 with 1 Axes>"
            ]
          },
          "metadata": {
            "tags": []
          }
        }
      ]
    },
    {
      "cell_type": "code",
      "metadata": {
        "id": "dRNs_DQ5AMB5",
        "colab_type": "code",
        "colab": {
          "base_uri": "https://localhost:8080/",
          "height": 484
        },
        "outputId": "a4877279-d78c-4e36-dd0e-16cfddceebcc"
      },
      "source": [
        "def _plot(i,j,ax): data.train_ds[0][0].show(ax, cmap='gray')\n",
        "plot_multi(_plot, 3, 3, figsize=(8,8))"
      ],
      "execution_count": 23,
      "outputs": [
        {
          "output_type": "display_data",
          "data": {
            "image/png": "[encoded data removed]",
            "text/plain": [
              "<Figure size 576x576 with 9 Axes>"
            ]
          },
          "metadata": {
            "tags": []
          }
        }
      ]
    },
    {
      "cell_type": "code",
      "metadata": {
        "id": "WQthPCeOAOlZ",
        "colab_type": "code",
        "colab": {
          "base_uri": "https://localhost:8080/",
          "height": 34
        },
        "outputId": "a9ceb087-85ae-417d-aac3-5bae92276e42"
      },
      "source": [
        "xb,yb = data.one_batch()\n",
        "xb.shape,yb.shape"
      ],
      "execution_count": 24,
      "outputs": [
        {
          "output_type": "execute_result",
          "data": {
            "text/plain": [
              "(torch.Size([128, 1, 28, 28]), torch.Size([128]))"
            ]
          },
          "metadata": {
            "tags": []
          },
          "execution_count": 24
        }
      ]
    },
    {
      "cell_type": "code",
      "metadata": {
        "id": "LyP6Q__OARPi",
        "colab_type": "code",
        "colab": {
          "base_uri": "https://localhost:8080/",
          "height": 369
        },
        "outputId": "d65c5fe7-2c2f-4fbd-a3d2-79f9a2955e22"
      },
      "source": [
        "data.show_batch(rows=3, figsize=(5,5))"
      ],
      "execution_count": 25,
      "outputs": [
        {
          "output_type": "display_data",
          "data": {
            "image/png": "[encoded data removed]",
            "text/plain": [
              "<Figure size 360x360 with 9 Axes>"
            ]
          },
          "metadata": {
            "tags": []
          }
        }
      ]
    },
    {
      "cell_type": "code",
      "metadata": {
        "id": "0S8dshpdATJQ",
        "colab_type": "code",
        "colab": {}
      },
      "source": [
        "def conv(ni,nf): return nn.Conv2d(ni, nf, kernel_size=3, stride=2, padding=1)"
      ],
      "execution_count": 0,
      "outputs": []
    },
    {
      "cell_type": "code",
      "metadata": {
        "id": "ioc--SPRAVvq",
        "colab_type": "code",
        "colab": {}
      },
      "source": [
        "model = nn.Sequential(\n",
        "    conv(1, 8), # 14\n",
        "    nn.BatchNorm2d(8),\n",
        "    nn.ReLU(),\n",
        "    conv(8, 16), # 7\n",
        "    nn.BatchNorm2d(16),\n",
        "    nn.ReLU(),\n",
        "    conv(16, 32), # 4\n",
        "    nn.BatchNorm2d(32),\n",
        "    nn.ReLU(),\n",
        "    conv(32, 16), # 2\n",
        "    nn.BatchNorm2d(16),\n",
        "    nn.ReLU(),\n",
        "    conv(16, 10), # 1\n",
        "    nn.BatchNorm2d(10),\n",
        "    Flatten()     # remove (1,1) grid\n",
        ")"
      ],
      "execution_count": 0,
      "outputs": []
    },
    {
      "cell_type": "code",
      "metadata": {
        "id": "4UA02rxHAYFf",
        "colab_type": "code",
        "colab": {}
      },
      "source": [
        "learn = Learner(data, model, loss_func = nn.CrossEntropyLoss(), metrics=accuracy)"
      ],
      "execution_count": 0,
      "outputs": []
    },
    {
      "cell_type": "code",
      "metadata": {
        "id": "ekt_A9tqAaPQ",
        "colab_type": "code",
        "colab": {
          "base_uri": "https://localhost:8080/",
          "height": 765
        },
        "outputId": "bb2cec0d-1b79-4fb7-f395-c90b1b249bbb"
      },
      "source": [
        "print(learn.summary())"
      ],
      "execution_count": 29,
      "outputs": [
        {
          "output_type": "stream",
          "text": [
            "Sequential\n",
            "======================================================================\n",
            "Layer (type)         Output Shape         Param #    Trainable \n",
            "======================================================================\n",
            "Conv2d               [8, 14, 14]          80         True      \n",
            "______________________________________________________________________\n",
            "BatchNorm2d          [8, 14, 14]          16         True      \n",
            "______________________________________________________________________\n",
            "ReLU                 [8, 14, 14]          0          False     \n",
            "______________________________________________________________________\n",
            "Conv2d               [16, 7, 7]           1,168      True      \n",
            "______________________________________________________________________\n",
            "BatchNorm2d          [16, 7, 7]           32         True      \n",
            "______________________________________________________________________\n",
            "ReLU                 [16, 7, 7]           0          False     \n",
            "______________________________________________________________________\n",
            "Conv2d               [32, 4, 4]           4,640      True      \n",
            "______________________________________________________________________\n",
            "BatchNorm2d          [32, 4, 4]           64         True      \n",
            "______________________________________________________________________\n",
            "ReLU                 [32, 4, 4]           0          False     \n",
            "______________________________________________________________________\n",
            "Conv2d               [16, 2, 2]           4,624      True      \n",
            "______________________________________________________________________\n",
            "BatchNorm2d          [16, 2, 2]           32         True      \n",
            "______________________________________________________________________\n",
            "ReLU                 [16, 2, 2]           0          False     \n",
            "______________________________________________________________________\n",
            "Conv2d               [10, 1, 1]           1,450      True      \n",
            "______________________________________________________________________\n",
            "BatchNorm2d          [10, 1, 1]           20         True      \n",
            "______________________________________________________________________\n",
            "Flatten              [10]                 0          False     \n",
            "______________________________________________________________________\n",
            "\n",
            "Total params: 12,126\n",
            "Total trainable params: 12,126\n",
            "Total non-trainable params: 0\n",
            "Optimized with 'torch.optim.adam.Adam', betas=(0.9, 0.99)\n",
            "Using true weight decay as discussed in https://www.fast.ai/2018/07/02/adam-weight-decay/ \n",
            "Loss function : CrossEntropyLoss\n",
            "======================================================================\n",
            "Callbacks functions applied \n",
            "\n"
          ],
          "name": "stdout"
        }
      ]
    },
    {
      "cell_type": "code",
      "metadata": {
        "id": "wcv9JdUPAbze",
        "colab_type": "code",
        "colab": {}
      },
      "source": [
        "xb = xb.cuda()"
      ],
      "execution_count": 0,
      "outputs": []
    },
    {
      "cell_type": "code",
      "metadata": {
        "id": "D2OOxnNJAfJU",
        "colab_type": "code",
        "colab": {
          "base_uri": "https://localhost:8080/",
          "height": 34
        },
        "outputId": "10775b54-0960-4c89-f7a7-b50938488a27"
      },
      "source": [
        "model(xb).shape"
      ],
      "execution_count": 31,
      "outputs": [
        {
          "output_type": "execute_result",
          "data": {
            "text/plain": [
              "torch.Size([128, 10])"
            ]
          },
          "metadata": {
            "tags": []
          },
          "execution_count": 31
        }
      ]
    },
    {
      "cell_type": "code",
      "metadata": {
        "id": "5ULm7gSkAg96",
        "colab_type": "code",
        "colab": {
          "base_uri": "https://localhost:8080/",
          "height": 34
        },
        "outputId": "5157589c-103f-4c1d-dc80-b56982cddabb"
      },
      "source": [
        "learn.lr_find(end_lr=100)"
      ],
      "execution_count": 32,
      "outputs": [
        {
          "output_type": "display_data",
          "data": {
            "text/html": [
              ""
            ],
            "text/plain": [
              "<IPython.core.display.HTML object>"
            ]
          },
          "metadata": {
            "tags": []
          }
        },
        {
          "output_type": "stream",
          "text": [
            "LR Finder is complete, type {learner_name}.recorder.plot() to see the graph.\n"
          ],
          "name": "stdout"
        }
      ]
    },
    {
      "cell_type": "code",
      "metadata": {
        "id": "UZJkJ_vrAi0U",
        "colab_type": "code",
        "colab": {
          "base_uri": "https://localhost:8080/",
          "height": 284
        },
        "outputId": "b85993ff-c112-4dff-9db6-ebc32127e824"
      },
      "source": [
        "learn.recorder.plot()"
      ],
      "execution_count": 33,
      "outputs": [
        {
          "output_type": "display_data",
          "data": {
            "image/png": "[encoded data removed]",
            "text/plain": [
              "<Figure size 432x288 with 1 Axes>"
            ]
          },
          "metadata": {
            "tags": []
          }
        }
      ]
    },
    {
      "cell_type": "code",
      "metadata": {
        "id": "JPHvb0aWAmpz",
        "colab_type": "code",
        "colab": {
          "base_uri": "https://localhost:8080/",
          "height": 142
        },
        "outputId": "8ab8a76c-2311-4ccc-bb40-803547054e18"
      },
      "source": [
        "learn.fit_one_cycle(3, max_lr=0.1)"
      ],
      "execution_count": 34,
      "outputs": [
        {
          "output_type": "display_data",
          "data": {
            "text/html": [
              "<table border=\"1\" class=\"dataframe\">\n",
              "  <thead>\n",
              "    <tr style=\"text-align: left;\">\n",
              "      <th>epoch</th>\n",
              "      <th>train_loss</th>\n",
              "      <th>valid_loss</th>\n",
              "      <th>accuracy</th>\n",
              "      <th>time</th>\n",
              "    </tr>\n",
              "  </thead>\n",
              "  <tbody>\n",
              "    <tr>\n",
              "      <td>0</td>\n",
              "      <td>0.227707</td>\n",
              "      <td>0.155350</td>\n",
              "      <td>0.951400</td>\n",
              "      <td>00:36</td>\n",
              "    </tr>\n",
              "    <tr>\n",
              "      <td>1</td>\n",
              "      <td>0.132150</td>\n",
              "      <td>0.087428</td>\n",
              "      <td>0.975000</td>\n",
              "      <td>00:36</td>\n",
              "    </tr>\n",
              "    <tr>\n",
              "      <td>2</td>\n",
              "      <td>0.071277</td>\n",
              "      <td>0.037770</td>\n",
              "      <td>0.986300</td>\n",
              "      <td>00:36</td>\n",
              "    </tr>\n",
              "  </tbody>\n",
              "</table>"
            ],
            "text/plain": [
              "<IPython.core.display.HTML object>"
            ]
          },
          "metadata": {
            "tags": []
          }
        }
      ]
    },
    {
      "cell_type": "code",
      "metadata": {
        "id": "8HEzR-inAr3q",
        "colab_type": "code",
        "colab": {}
      },
      "source": [
        "def conv2(ni,nf): return conv_layer(ni,nf,stride=2)"
      ],
      "execution_count": 0,
      "outputs": []
    },
    {
      "cell_type": "code",
      "metadata": {
        "id": "o0VWGCuqCt2i",
        "colab_type": "code",
        "colab": {}
      },
      "source": [
        "model = nn.Sequential(\n",
        "    conv2(1, 8),   # 14\n",
        "    conv2(8, 16),  # 7\n",
        "    conv2(16, 32), # 4\n",
        "    conv2(32, 16), # 2\n",
        "    conv2(16, 10), # 1\n",
        "    Flatten()      # remove (1,1) grid\n",
        ")"
      ],
      "execution_count": 0,
      "outputs": []
    },
    {
      "cell_type": "code",
      "metadata": {
        "id": "ZAD1CFWICvoR",
        "colab_type": "code",
        "colab": {}
      },
      "source": [
        "learn = Learner(data, model, loss_func = nn.CrossEntropyLoss(), metrics=accuracy)"
      ],
      "execution_count": 0,
      "outputs": []
    },
    {
      "cell_type": "code",
      "metadata": {
        "id": "cLnRz36gCxgO",
        "colab_type": "code",
        "colab": {
          "base_uri": "https://localhost:8080/",
          "height": 359
        },
        "outputId": "c23e920a-550e-4b91-f957-5168c00fe7f8"
      },
      "source": [
        "learn.fit_one_cycle(10, max_lr=0.1)"
      ],
      "execution_count": 38,
      "outputs": [
        {
          "output_type": "display_data",
          "data": {
            "text/html": [
              "<table border=\"1\" class=\"dataframe\">\n",
              "  <thead>\n",
              "    <tr style=\"text-align: left;\">\n",
              "      <th>epoch</th>\n",
              "      <th>train_loss</th>\n",
              "      <th>valid_loss</th>\n",
              "      <th>accuracy</th>\n",
              "      <th>time</th>\n",
              "    </tr>\n",
              "  </thead>\n",
              "  <tbody>\n",
              "    <tr>\n",
              "      <td>0</td>\n",
              "      <td>0.229229</td>\n",
              "      <td>0.289804</td>\n",
              "      <td>0.913100</td>\n",
              "      <td>00:35</td>\n",
              "    </tr>\n",
              "    <tr>\n",
              "      <td>1</td>\n",
              "      <td>0.188423</td>\n",
              "      <td>0.199562</td>\n",
              "      <td>0.938500</td>\n",
              "      <td>00:35</td>\n",
              "    </tr>\n",
              "    <tr>\n",
              "      <td>2</td>\n",
              "      <td>0.163021</td>\n",
              "      <td>0.154442</td>\n",
              "      <td>0.950600</td>\n",
              "      <td>00:35</td>\n",
              "    </tr>\n",
              "    <tr>\n",
              "      <td>3</td>\n",
              "      <td>0.129693</td>\n",
              "      <td>0.097164</td>\n",
              "      <td>0.968200</td>\n",
              "      <td>00:36</td>\n",
              "    </tr>\n",
              "    <tr>\n",
              "      <td>4</td>\n",
              "      <td>0.128490</td>\n",
              "      <td>0.111194</td>\n",
              "      <td>0.963400</td>\n",
              "      <td>00:36</td>\n",
              "    </tr>\n",
              "    <tr>\n",
              "      <td>5</td>\n",
              "      <td>0.099042</td>\n",
              "      <td>0.064950</td>\n",
              "      <td>0.979900</td>\n",
              "      <td>00:35</td>\n",
              "    </tr>\n",
              "    <tr>\n",
              "      <td>6</td>\n",
              "      <td>0.084156</td>\n",
              "      <td>0.058508</td>\n",
              "      <td>0.981600</td>\n",
              "      <td>00:35</td>\n",
              "    </tr>\n",
              "    <tr>\n",
              "      <td>7</td>\n",
              "      <td>0.066212</td>\n",
              "      <td>0.051578</td>\n",
              "      <td>0.983200</td>\n",
              "      <td>00:35</td>\n",
              "    </tr>\n",
              "    <tr>\n",
              "      <td>8</td>\n",
              "      <td>0.047750</td>\n",
              "      <td>0.033142</td>\n",
              "      <td>0.989400</td>\n",
              "      <td>00:35</td>\n",
              "    </tr>\n",
              "    <tr>\n",
              "      <td>9</td>\n",
              "      <td>0.047205</td>\n",
              "      <td>0.030382</td>\n",
              "      <td>0.989600</td>\n",
              "      <td>00:35</td>\n",
              "    </tr>\n",
              "  </tbody>\n",
              "</table>"
            ],
            "text/plain": [
              "<IPython.core.display.HTML object>"
            ]
          },
          "metadata": {
            "tags": []
          }
        }
      ]
    },
    {
      "cell_type": "code",
      "metadata": {
        "id": "HhYcwzQsCza_",
        "colab_type": "code",
        "colab": {}
      },
      "source": [
        "class ResBlock(nn.Module):\n",
        "    def __init__(self, nf):\n",
        "        super().__init__()\n",
        "        self.conv1 = conv_layer(nf,nf)\n",
        "        self.conv2 = conv_layer(nf,nf)\n",
        "        \n",
        "    def forward(self, x): return x + self.conv2(self.conv1(x))"
      ],
      "execution_count": 0,
      "outputs": []
    },
    {
      "cell_type": "code",
      "metadata": {
        "id": "DTXoC8TSE0J4",
        "colab_type": "code",
        "colab": {}
      },
      "source": [
        "model = nn.Sequential(\n",
        "    conv2(1, 8),\n",
        "    res_block(8),\n",
        "    conv2(8, 16),\n",
        "    res_block(16),\n",
        "    conv2(16, 32),\n",
        "    res_block(32),\n",
        "    conv2(32, 16),\n",
        "    res_block(16),\n",
        "    conv2(16, 10),\n",
        "    Flatten()\n",
        ")"
      ],
      "execution_count": 0,
      "outputs": []
    },
    {
      "cell_type": "code",
      "metadata": {
        "id": "NnD8y2QqE3L6",
        "colab_type": "code",
        "colab": {}
      },
      "source": [
        "def conv_and_res(ni,nf): return nn.Sequential(conv2(ni, nf), res_block(nf))"
      ],
      "execution_count": 0,
      "outputs": []
    },
    {
      "cell_type": "code",
      "metadata": {
        "id": "C4ycv_44E5NT",
        "colab_type": "code",
        "colab": {}
      },
      "source": [
        "model = nn.Sequential(\n",
        "    conv_and_res(1, 8),\n",
        "    conv_and_res(8, 16),\n",
        "    conv_and_res(16, 32),\n",
        "    conv_and_res(32, 16),\n",
        "    conv2(16, 10),\n",
        "    Flatten()\n",
        ")"
      ],
      "execution_count": 0,
      "outputs": []
    },
    {
      "cell_type": "code",
      "metadata": {
        "id": "nq54ppgtE7Zl",
        "colab_type": "code",
        "colab": {}
      },
      "source": [
        "learn = Learner(data, model, loss_func = nn.CrossEntropyLoss(), metrics=accuracy)"
      ],
      "execution_count": 0,
      "outputs": []
    },
    {
      "cell_type": "code",
      "metadata": {
        "id": "IXXHrjULE9X_",
        "colab_type": "code",
        "colab": {
          "base_uri": "https://localhost:8080/",
          "height": 300
        },
        "outputId": "c5b2f692-6845-449d-87a3-b45b19770d83"
      },
      "source": [
        "learn.lr_find(end_lr=100)\n",
        "learn.recorder.plot()"
      ],
      "execution_count": 44,
      "outputs": [
        {
          "output_type": "display_data",
          "data": {
            "text/html": [
              ""
            ],
            "text/plain": [
              "<IPython.core.display.HTML object>"
            ]
          },
          "metadata": {
            "tags": []
          }
        },
        {
          "output_type": "stream",
          "text": [
            "LR Finder is complete, type {learner_name}.recorder.plot() to see the graph.\n"
          ],
          "name": "stdout"
        },
        {
          "output_type": "display_data",
          "data": {
            "image/png": "[encoded data removed]",
            "text/plain": [
              "<Figure size 432x288 with 1 Axes>"
            ]
          },
          "metadata": {
            "tags": []
          }
        }
      ]
    },
    {
      "cell_type": "code",
      "metadata": {
        "id": "annJ55tEGqXf",
        "colab_type": "code",
        "colab": {
          "base_uri": "https://localhost:8080/",
          "height": 421
        },
        "outputId": "d6e48861-6409-4cda-dccb-74d462c71045"
      },
      "source": [
        "learn.fit_one_cycle(12, max_lr=0.05)"
      ],
      "execution_count": 45,
      "outputs": [
        {
          "output_type": "display_data",
          "data": {
            "text/html": [
              "<table border=\"1\" class=\"dataframe\">\n",
              "  <thead>\n",
              "    <tr style=\"text-align: left;\">\n",
              "      <th>epoch</th>\n",
              "      <th>train_loss</th>\n",
              "      <th>valid_loss</th>\n",
              "      <th>accuracy</th>\n",
              "      <th>time</th>\n",
              "    </tr>\n",
              "  </thead>\n",
              "  <tbody>\n",
              "    <tr>\n",
              "      <td>0</td>\n",
              "      <td>0.235402</td>\n",
              "      <td>0.206384</td>\n",
              "      <td>0.943700</td>\n",
              "      <td>00:41</td>\n",
              "    </tr>\n",
              "    <tr>\n",
              "      <td>1</td>\n",
              "      <td>0.131705</td>\n",
              "      <td>0.155290</td>\n",
              "      <td>0.957100</td>\n",
              "      <td>00:41</td>\n",
              "    </tr>\n",
              "    <tr>\n",
              "      <td>2</td>\n",
              "      <td>0.108198</td>\n",
              "      <td>0.095231</td>\n",
              "      <td>0.970300</td>\n",
              "      <td>00:41</td>\n",
              "    </tr>\n",
              "    <tr>\n",
              "      <td>3</td>\n",
              "      <td>0.087578</td>\n",
              "      <td>0.068588</td>\n",
              "      <td>0.979400</td>\n",
              "      <td>00:42</td>\n",
              "    </tr>\n",
              "    <tr>\n",
              "      <td>4</td>\n",
              "      <td>0.071029</td>\n",
              "      <td>0.089054</td>\n",
              "      <td>0.973500</td>\n",
              "      <td>00:42</td>\n",
              "    </tr>\n",
              "    <tr>\n",
              "      <td>5</td>\n",
              "      <td>0.058679</td>\n",
              "      <td>0.065346</td>\n",
              "      <td>0.981100</td>\n",
              "      <td>00:42</td>\n",
              "    </tr>\n",
              "    <tr>\n",
              "      <td>6</td>\n",
              "      <td>0.051810</td>\n",
              "      <td>0.058401</td>\n",
              "      <td>0.979300</td>\n",
              "      <td>00:41</td>\n",
              "    </tr>\n",
              "    <tr>\n",
              "      <td>7</td>\n",
              "      <td>0.048435</td>\n",
              "      <td>0.097533</td>\n",
              "      <td>0.968200</td>\n",
              "      <td>00:42</td>\n",
              "    </tr>\n",
              "    <tr>\n",
              "      <td>8</td>\n",
              "      <td>0.031970</td>\n",
              "      <td>0.031080</td>\n",
              "      <td>0.990500</td>\n",
              "      <td>00:42</td>\n",
              "    </tr>\n",
              "    <tr>\n",
              "      <td>9</td>\n",
              "      <td>0.024893</td>\n",
              "      <td>0.016962</td>\n",
              "      <td>0.994100</td>\n",
              "      <td>00:42</td>\n",
              "    </tr>\n",
              "    <tr>\n",
              "      <td>10</td>\n",
              "      <td>0.022585</td>\n",
              "      <td>0.017405</td>\n",
              "      <td>0.993700</td>\n",
              "      <td>00:42</td>\n",
              "    </tr>\n",
              "    <tr>\n",
              "      <td>11</td>\n",
              "      <td>0.021984</td>\n",
              "      <td>0.015813</td>\n",
              "      <td>0.994900</td>\n",
              "      <td>00:41</td>\n",
              "    </tr>\n",
              "  </tbody>\n",
              "</table>"
            ],
            "text/plain": [
              "<IPython.core.display.HTML object>"
            ]
          },
          "metadata": {
            "tags": []
          }
        }
      ]
    },
    {
      "cell_type": "code",
      "metadata": {
        "id": "rBINgX0OGtx-",
        "colab_type": "code",
        "colab": {
          "base_uri": "https://localhost:8080/",
          "height": 1000
        },
        "outputId": "408f19ba-0b27-41f3-e8e6-706c5c0583c0"
      },
      "source": [
        "print(learn.summary())"
      ],
      "execution_count": 46,
      "outputs": [
        {
          "output_type": "stream",
          "text": [
            "Sequential\n",
            "======================================================================\n",
            "Layer (type)         Output Shape         Param #    Trainable \n",
            "======================================================================\n",
            "Conv2d               [8, 14, 14]          72         True      \n",
            "______________________________________________________________________\n",
            "ReLU                 [8, 14, 14]          0          False     \n",
            "______________________________________________________________________\n",
            "BatchNorm2d          [8, 14, 14]          16         True      \n",
            "______________________________________________________________________\n",
            "Conv2d               [8, 14, 14]          576        True      \n",
            "______________________________________________________________________\n",
            "ReLU                 [8, 14, 14]          0          False     \n",
            "______________________________________________________________________\n",
            "BatchNorm2d          [8, 14, 14]          16         True      \n",
            "______________________________________________________________________\n",
            "Conv2d               [8, 14, 14]          576        True      \n",
            "______________________________________________________________________\n",
            "ReLU                 [8, 14, 14]          0          False     \n",
            "______________________________________________________________________\n",
            "BatchNorm2d          [8, 14, 14]          16         True      \n",
            "______________________________________________________________________\n",
            "MergeLayer           [8, 14, 14]          0          False     \n",
            "______________________________________________________________________\n",
            "Conv2d               [16, 7, 7]           1,152      True      \n",
            "______________________________________________________________________\n",
            "ReLU                 [16, 7, 7]           0          False     \n",
            "______________________________________________________________________\n",
            "BatchNorm2d          [16, 7, 7]           32         True      \n",
            "______________________________________________________________________\n",
            "Conv2d               [16, 7, 7]           2,304      True      \n",
            "______________________________________________________________________\n",
            "ReLU                 [16, 7, 7]           0          False     \n",
            "______________________________________________________________________\n",
            "BatchNorm2d          [16, 7, 7]           32         True      \n",
            "______________________________________________________________________\n",
            "Conv2d               [16, 7, 7]           2,304      True      \n",
            "______________________________________________________________________\n",
            "ReLU                 [16, 7, 7]           0          False     \n",
            "______________________________________________________________________\n",
            "BatchNorm2d          [16, 7, 7]           32         True      \n",
            "______________________________________________________________________\n",
            "MergeLayer           [16, 7, 7]           0          False     \n",
            "______________________________________________________________________\n",
            "Conv2d               [32, 4, 4]           4,608      True      \n",
            "______________________________________________________________________\n",
            "ReLU                 [32, 4, 4]           0          False     \n",
            "______________________________________________________________________\n",
            "BatchNorm2d          [32, 4, 4]           64         True      \n",
            "______________________________________________________________________\n",
            "Conv2d               [32, 4, 4]           9,216      True      \n",
            "______________________________________________________________________\n",
            "ReLU                 [32, 4, 4]           0          False     \n",
            "______________________________________________________________________\n",
            "BatchNorm2d          [32, 4, 4]           64         True      \n",
            "______________________________________________________________________\n",
            "Conv2d               [32, 4, 4]           9,216      True      \n",
            "______________________________________________________________________\n",
            "ReLU                 [32, 4, 4]           0          False     \n",
            "______________________________________________________________________\n",
            "BatchNorm2d          [32, 4, 4]           64         True      \n",
            "______________________________________________________________________\n",
            "MergeLayer           [32, 4, 4]           0          False     \n",
            "______________________________________________________________________\n",
            "Conv2d               [16, 2, 2]           4,608      True      \n",
            "______________________________________________________________________\n",
            "ReLU                 [16, 2, 2]           0          False     \n",
            "______________________________________________________________________\n",
            "BatchNorm2d          [16, 2, 2]           32         True      \n",
            "______________________________________________________________________\n",
            "Conv2d               [16, 2, 2]           2,304      True      \n",
            "______________________________________________________________________\n",
            "ReLU                 [16, 2, 2]           0          False     \n",
            "______________________________________________________________________\n",
            "BatchNorm2d          [16, 2, 2]           32         True      \n",
            "______________________________________________________________________\n",
            "Conv2d               [16, 2, 2]           2,304      True      \n",
            "______________________________________________________________________\n",
            "ReLU                 [16, 2, 2]           0          False     \n",
            "______________________________________________________________________\n",
            "BatchNorm2d          [16, 2, 2]           32         True      \n",
            "______________________________________________________________________\n",
            "MergeLayer           [16, 2, 2]           0          False     \n",
            "______________________________________________________________________\n",
            "Conv2d               [10, 1, 1]           1,440      True      \n",
            "______________________________________________________________________\n",
            "ReLU                 [10, 1, 1]           0          False     \n",
            "______________________________________________________________________\n",
            "BatchNorm2d          [10, 1, 1]           20         True      \n",
            "______________________________________________________________________\n",
            "Flatten              [10]                 0          False     \n",
            "______________________________________________________________________\n",
            "\n",
            "Total params: 41,132\n",
            "Total trainable params: 41,132\n",
            "Total non-trainable params: 0\n",
            "Optimized with 'torch.optim.adam.Adam', betas=(0.9, 0.99)\n",
            "Using true weight decay as discussed in https://www.fast.ai/2018/07/02/adam-weight-decay/ \n",
            "Loss function : CrossEntropyLoss\n",
            "======================================================================\n",
            "Callbacks functions applied \n",
            "\n"
          ],
          "name": "stdout"
        }
      ]
    },
    {
      "cell_type": "code",
      "metadata": {
        "id": "0dQ5NsopIt6y",
        "colab_type": "code",
        "colab": {}
      },
      "source": [
        ""
      ],
      "execution_count": 0,
      "outputs": []
    }
  ]
}